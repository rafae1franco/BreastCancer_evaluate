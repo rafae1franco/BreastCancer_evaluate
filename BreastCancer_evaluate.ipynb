{
  "nbformat": 4,
  "nbformat_minor": 0,
  "metadata": {
    "colab": {
      "provenance": [],
      "authorship_tag": "ABX9TyM0NgII8kwm/6C90tsHjsP1",
      "include_colab_link": true
    },
    "kernelspec": {
      "name": "python3",
      "display_name": "Python 3"
    },
    "language_info": {
      "name": "python"
    }
  },
  "cells": [
    {
      "cell_type": "markdown",
      "metadata": {
        "id": "view-in-github",
        "colab_type": "text"
      },
      "source": [
        "<a href=\"https://colab.research.google.com/github/rafae1franco/BreastCancer_evaluate/blob/main/BreastCancer_evaluate.ipynb\" target=\"_parent\"><img src=\"https://colab.research.google.com/assets/colab-badge.svg\" alt=\"Open In Colab\"/></a>"
      ]
    },
    {
      "cell_type": "code",
      "execution_count": null,
      "metadata": {
        "id": "Ie8eDSUuSpvk"
      },
      "outputs": [],
      "source": [
        "import pandas as pd\n",
        "import numpy as np\n",
        "import tensorflow as tf\n",
        "from sklearn.model_selection import train_test_split\n",
        "from sklearn.preprocessing import StandardScaler\n",
        "from sklearn.metrics import accuracy_score, confusion_matrix\n",
        "import seaborn as sns\n",
        "import matplotlib.pyplot as plt"
      ]
    },
    {
      "cell_type": "code",
      "source": [
        "url = 'https://archive.ics.uci.edu/ml/machine-learning-databases/breast-cancer-wisconsin/wdbc.data'\n",
        "columns = ['id', 'diagnosis'] + [f'feature_{i}' for i in range(1, 31)]\n",
        "data = pd.read_csv(url, header=None, names=columns)\n",
        "\n",
        "data['diagnosis'] = data['diagnosis'].map({'M': 1, 'B': 0})\n",
        "X = data.drop(['id', 'diagnosis'], axis=1)\n",
        "y = data['diagnosis']"
      ],
      "metadata": {
        "id": "HkTw8EitegcD"
      },
      "execution_count": null,
      "outputs": []
    },
    {
      "cell_type": "code",
      "source": [
        "X_train, X_test, y_train, y_test = train_test_split(X, y, test_size=0.2, random_state=42)"
      ],
      "metadata": {
        "id": "GGQhnd6Beibr"
      },
      "execution_count": null,
      "outputs": []
    },
    {
      "cell_type": "code",
      "source": [
        "scaler = StandardScaler()\n",
        "X_train = scaler.fit_transform(X_train)\n",
        "X_test = scaler.transform(X_test)\n",
        "\n",
        "X_train = np.array(X_train)\n",
        "X_test = np.array(X_test)\n",
        "y_train = np.array(y_train)\n",
        "y_test = np.array(y_test)"
      ],
      "metadata": {
        "id": "UgU6HoIOekby"
      },
      "execution_count": null,
      "outputs": []
    },
    {
      "cell_type": "code",
      "source": [
        "model = tf.keras.Sequential([\n",
        "    tf.keras.layers.Dense(30, input_shape=(30,), activation='relu'),\n",
        "    tf.keras.layers.Dense(15, activation='relu'),\n",
        "    tf.keras.layers.Dense(15, activation='relu'),\n",
        "    tf.keras.layers.Dense(1, activation='sigmoid')\n",
        "])"
      ],
      "metadata": {
        "id": "InIiw2hNemdC"
      },
      "execution_count": null,
      "outputs": []
    },
    {
      "cell_type": "code",
      "source": [
        "model.compile(optimizer='adam', loss='binary_crossentropy', metrics=['accuracy'])\n",
        "\n",
        "model.fit(X_train, y_train, epochs=150, batch_size=10, validation_split=0.1)"
      ],
      "metadata": {
        "colab": {
          "base_uri": "https://localhost:8080/"
        },
        "id": "vNEdVxxKSvVr",
        "outputId": "5ea1a7d2-d655-4e2a-90b0-7ea2ad3cca75"
      },
      "execution_count": null,
      "outputs": [
        {
          "output_type": "stream",
          "name": "stdout",
          "text": [
            "Epoch 1/150\n",
            "41/41 [==============================] - 2s 7ms/step - loss: 0.0031 - accuracy: 1.0000 - val_loss: 0.0246 - val_accuracy: 0.9783\n",
            "Epoch 2/150\n",
            "41/41 [==============================] - 0s 3ms/step - loss: 0.0017 - accuracy: 1.0000 - val_loss: 0.0213 - val_accuracy: 1.0000\n",
            "Epoch 3/150\n",
            "41/41 [==============================] - 0s 3ms/step - loss: 0.0011 - accuracy: 1.0000 - val_loss: 0.0230 - val_accuracy: 0.9783\n",
            "Epoch 4/150\n",
            "41/41 [==============================] - 0s 3ms/step - loss: 7.9427e-04 - accuracy: 1.0000 - val_loss: 0.0228 - val_accuracy: 0.9783\n",
            "Epoch 5/150\n",
            "41/41 [==============================] - 0s 3ms/step - loss: 5.7466e-04 - accuracy: 1.0000 - val_loss: 0.0225 - val_accuracy: 0.9783\n",
            "Epoch 6/150\n",
            "41/41 [==============================] - 0s 4ms/step - loss: 4.7135e-04 - accuracy: 1.0000 - val_loss: 0.0225 - val_accuracy: 0.9783\n",
            "Epoch 7/150\n",
            "41/41 [==============================] - 0s 3ms/step - loss: 3.6165e-04 - accuracy: 1.0000 - val_loss: 0.0255 - val_accuracy: 0.9783\n",
            "Epoch 8/150\n",
            "41/41 [==============================] - 0s 3ms/step - loss: 3.6213e-04 - accuracy: 1.0000 - val_loss: 0.0192 - val_accuracy: 1.0000\n",
            "Epoch 9/150\n",
            "41/41 [==============================] - 0s 3ms/step - loss: 4.2169e-04 - accuracy: 1.0000 - val_loss: 0.0238 - val_accuracy: 0.9783\n",
            "Epoch 10/150\n",
            "41/41 [==============================] - 0s 3ms/step - loss: 2.5242e-04 - accuracy: 1.0000 - val_loss: 0.0188 - val_accuracy: 1.0000\n",
            "Epoch 11/150\n",
            "41/41 [==============================] - 0s 3ms/step - loss: 2.1537e-04 - accuracy: 1.0000 - val_loss: 0.0165 - val_accuracy: 1.0000\n",
            "Epoch 12/150\n",
            "41/41 [==============================] - 0s 3ms/step - loss: 1.7537e-04 - accuracy: 1.0000 - val_loss: 0.0172 - val_accuracy: 1.0000\n",
            "Epoch 13/150\n",
            "41/41 [==============================] - 0s 3ms/step - loss: 1.4547e-04 - accuracy: 1.0000 - val_loss: 0.0169 - val_accuracy: 1.0000\n",
            "Epoch 14/150\n",
            "41/41 [==============================] - 0s 4ms/step - loss: 1.2856e-04 - accuracy: 1.0000 - val_loss: 0.0161 - val_accuracy: 1.0000\n",
            "Epoch 15/150\n",
            "41/41 [==============================] - 0s 3ms/step - loss: 1.1394e-04 - accuracy: 1.0000 - val_loss: 0.0169 - val_accuracy: 1.0000\n",
            "Epoch 16/150\n",
            "41/41 [==============================] - 0s 3ms/step - loss: 1.0147e-04 - accuracy: 1.0000 - val_loss: 0.0160 - val_accuracy: 1.0000\n",
            "Epoch 17/150\n",
            "41/41 [==============================] - 0s 3ms/step - loss: 9.3064e-05 - accuracy: 1.0000 - val_loss: 0.0167 - val_accuracy: 1.0000\n",
            "Epoch 18/150\n",
            "41/41 [==============================] - 0s 3ms/step - loss: 8.4792e-05 - accuracy: 1.0000 - val_loss: 0.0171 - val_accuracy: 1.0000\n",
            "Epoch 19/150\n",
            "41/41 [==============================] - 0s 3ms/step - loss: 7.7466e-05 - accuracy: 1.0000 - val_loss: 0.0157 - val_accuracy: 1.0000\n",
            "Epoch 20/150\n",
            "41/41 [==============================] - 0s 3ms/step - loss: 6.9327e-05 - accuracy: 1.0000 - val_loss: 0.0160 - val_accuracy: 1.0000\n",
            "Epoch 21/150\n",
            "41/41 [==============================] - 0s 4ms/step - loss: 6.1828e-05 - accuracy: 1.0000 - val_loss: 0.0156 - val_accuracy: 1.0000\n",
            "Epoch 22/150\n",
            "41/41 [==============================] - 0s 3ms/step - loss: 5.8028e-05 - accuracy: 1.0000 - val_loss: 0.0159 - val_accuracy: 1.0000\n",
            "Epoch 23/150\n",
            "41/41 [==============================] - 0s 3ms/step - loss: 5.4515e-05 - accuracy: 1.0000 - val_loss: 0.0153 - val_accuracy: 1.0000\n",
            "Epoch 24/150\n",
            "41/41 [==============================] - 0s 3ms/step - loss: 4.8099e-05 - accuracy: 1.0000 - val_loss: 0.0152 - val_accuracy: 1.0000\n",
            "Epoch 25/150\n",
            "41/41 [==============================] - 0s 3ms/step - loss: 4.6919e-05 - accuracy: 1.0000 - val_loss: 0.0143 - val_accuracy: 1.0000\n",
            "Epoch 26/150\n",
            "41/41 [==============================] - 0s 3ms/step - loss: 4.1506e-05 - accuracy: 1.0000 - val_loss: 0.0147 - val_accuracy: 1.0000\n",
            "Epoch 27/150\n",
            "41/41 [==============================] - 0s 4ms/step - loss: 3.8933e-05 - accuracy: 1.0000 - val_loss: 0.0152 - val_accuracy: 1.0000\n",
            "Epoch 28/150\n",
            "41/41 [==============================] - 0s 4ms/step - loss: 3.5645e-05 - accuracy: 1.0000 - val_loss: 0.0149 - val_accuracy: 1.0000\n",
            "Epoch 29/150\n",
            "41/41 [==============================] - 0s 3ms/step - loss: 3.4712e-05 - accuracy: 1.0000 - val_loss: 0.0143 - val_accuracy: 1.0000\n",
            "Epoch 30/150\n",
            "41/41 [==============================] - 0s 3ms/step - loss: 3.2255e-05 - accuracy: 1.0000 - val_loss: 0.0143 - val_accuracy: 1.0000\n",
            "Epoch 31/150\n",
            "41/41 [==============================] - 0s 3ms/step - loss: 2.9572e-05 - accuracy: 1.0000 - val_loss: 0.0141 - val_accuracy: 1.0000\n",
            "Epoch 32/150\n",
            "41/41 [==============================] - 0s 3ms/step - loss: 2.7245e-05 - accuracy: 1.0000 - val_loss: 0.0143 - val_accuracy: 1.0000\n",
            "Epoch 33/150\n",
            "41/41 [==============================] - 0s 3ms/step - loss: 2.6046e-05 - accuracy: 1.0000 - val_loss: 0.0143 - val_accuracy: 1.0000\n",
            "Epoch 34/150\n",
            "41/41 [==============================] - 0s 3ms/step - loss: 2.4371e-05 - accuracy: 1.0000 - val_loss: 0.0145 - val_accuracy: 1.0000\n",
            "Epoch 35/150\n",
            "41/41 [==============================] - 0s 3ms/step - loss: 2.2910e-05 - accuracy: 1.0000 - val_loss: 0.0140 - val_accuracy: 1.0000\n",
            "Epoch 36/150\n",
            "41/41 [==============================] - 0s 4ms/step - loss: 2.1742e-05 - accuracy: 1.0000 - val_loss: 0.0137 - val_accuracy: 1.0000\n",
            "Epoch 37/150\n",
            "41/41 [==============================] - 0s 3ms/step - loss: 2.0531e-05 - accuracy: 1.0000 - val_loss: 0.0144 - val_accuracy: 1.0000\n",
            "Epoch 38/150\n",
            "41/41 [==============================] - 0s 3ms/step - loss: 1.9157e-05 - accuracy: 1.0000 - val_loss: 0.0141 - val_accuracy: 1.0000\n",
            "Epoch 39/150\n",
            "41/41 [==============================] - 0s 3ms/step - loss: 1.8058e-05 - accuracy: 1.0000 - val_loss: 0.0140 - val_accuracy: 1.0000\n",
            "Epoch 40/150\n",
            "41/41 [==============================] - 0s 3ms/step - loss: 1.7431e-05 - accuracy: 1.0000 - val_loss: 0.0141 - val_accuracy: 1.0000\n",
            "Epoch 41/150\n",
            "41/41 [==============================] - 0s 3ms/step - loss: 1.6384e-05 - accuracy: 1.0000 - val_loss: 0.0142 - val_accuracy: 1.0000\n",
            "Epoch 42/150\n",
            "41/41 [==============================] - 0s 3ms/step - loss: 1.5419e-05 - accuracy: 1.0000 - val_loss: 0.0135 - val_accuracy: 1.0000\n",
            "Epoch 43/150\n",
            "41/41 [==============================] - 0s 4ms/step - loss: 1.4785e-05 - accuracy: 1.0000 - val_loss: 0.0137 - val_accuracy: 1.0000\n",
            "Epoch 44/150\n",
            "41/41 [==============================] - 0s 3ms/step - loss: 1.4126e-05 - accuracy: 1.0000 - val_loss: 0.0139 - val_accuracy: 1.0000\n",
            "Epoch 45/150\n",
            "41/41 [==============================] - 0s 3ms/step - loss: 1.3281e-05 - accuracy: 1.0000 - val_loss: 0.0134 - val_accuracy: 1.0000\n",
            "Epoch 46/150\n",
            "41/41 [==============================] - 0s 3ms/step - loss: 1.2834e-05 - accuracy: 1.0000 - val_loss: 0.0137 - val_accuracy: 1.0000\n",
            "Epoch 47/150\n",
            "41/41 [==============================] - 0s 3ms/step - loss: 1.2339e-05 - accuracy: 1.0000 - val_loss: 0.0132 - val_accuracy: 1.0000\n",
            "Epoch 48/150\n",
            "41/41 [==============================] - 0s 5ms/step - loss: 1.1327e-05 - accuracy: 1.0000 - val_loss: 0.0135 - val_accuracy: 1.0000\n",
            "Epoch 49/150\n",
            "41/41 [==============================] - 0s 6ms/step - loss: 1.1321e-05 - accuracy: 1.0000 - val_loss: 0.0134 - val_accuracy: 1.0000\n",
            "Epoch 50/150\n",
            "41/41 [==============================] - 0s 5ms/step - loss: 1.0420e-05 - accuracy: 1.0000 - val_loss: 0.0134 - val_accuracy: 1.0000\n",
            "Epoch 51/150\n",
            "41/41 [==============================] - 0s 4ms/step - loss: 1.0024e-05 - accuracy: 1.0000 - val_loss: 0.0131 - val_accuracy: 1.0000\n",
            "Epoch 52/150\n",
            "41/41 [==============================] - 0s 5ms/step - loss: 9.6465e-06 - accuracy: 1.0000 - val_loss: 0.0133 - val_accuracy: 1.0000\n",
            "Epoch 53/150\n",
            "41/41 [==============================] - 0s 4ms/step - loss: 9.4101e-06 - accuracy: 1.0000 - val_loss: 0.0134 - val_accuracy: 1.0000\n",
            "Epoch 54/150\n",
            "41/41 [==============================] - 0s 6ms/step - loss: 9.2199e-06 - accuracy: 1.0000 - val_loss: 0.0128 - val_accuracy: 1.0000\n",
            "Epoch 55/150\n",
            "41/41 [==============================] - 0s 5ms/step - loss: 8.4504e-06 - accuracy: 1.0000 - val_loss: 0.0133 - val_accuracy: 1.0000\n",
            "Epoch 56/150\n",
            "41/41 [==============================] - 0s 5ms/step - loss: 8.2495e-06 - accuracy: 1.0000 - val_loss: 0.0128 - val_accuracy: 1.0000\n",
            "Epoch 57/150\n",
            "41/41 [==============================] - 0s 5ms/step - loss: 7.7316e-06 - accuracy: 1.0000 - val_loss: 0.0129 - val_accuracy: 1.0000\n",
            "Epoch 58/150\n",
            "41/41 [==============================] - 0s 5ms/step - loss: 7.4439e-06 - accuracy: 1.0000 - val_loss: 0.0129 - val_accuracy: 1.0000\n",
            "Epoch 59/150\n",
            "41/41 [==============================] - 0s 6ms/step - loss: 7.1363e-06 - accuracy: 1.0000 - val_loss: 0.0129 - val_accuracy: 1.0000\n",
            "Epoch 60/150\n",
            "41/41 [==============================] - 0s 5ms/step - loss: 6.8748e-06 - accuracy: 1.0000 - val_loss: 0.0128 - val_accuracy: 1.0000\n",
            "Epoch 61/150\n",
            "41/41 [==============================] - 0s 5ms/step - loss: 6.6045e-06 - accuracy: 1.0000 - val_loss: 0.0128 - val_accuracy: 1.0000\n",
            "Epoch 62/150\n",
            "41/41 [==============================] - 0s 5ms/step - loss: 6.2946e-06 - accuracy: 1.0000 - val_loss: 0.0129 - val_accuracy: 1.0000\n",
            "Epoch 63/150\n",
            "41/41 [==============================] - 0s 5ms/step - loss: 6.0713e-06 - accuracy: 1.0000 - val_loss: 0.0131 - val_accuracy: 1.0000\n",
            "Epoch 64/150\n",
            "41/41 [==============================] - 0s 4ms/step - loss: 5.7835e-06 - accuracy: 1.0000 - val_loss: 0.0127 - val_accuracy: 1.0000\n",
            "Epoch 65/150\n",
            "41/41 [==============================] - 0s 3ms/step - loss: 5.6154e-06 - accuracy: 1.0000 - val_loss: 0.0127 - val_accuracy: 1.0000\n",
            "Epoch 66/150\n",
            "41/41 [==============================] - 0s 3ms/step - loss: 5.3995e-06 - accuracy: 1.0000 - val_loss: 0.0126 - val_accuracy: 1.0000\n",
            "Epoch 67/150\n",
            "41/41 [==============================] - 0s 3ms/step - loss: 5.2140e-06 - accuracy: 1.0000 - val_loss: 0.0127 - val_accuracy: 1.0000\n",
            "Epoch 68/150\n",
            "41/41 [==============================] - 0s 3ms/step - loss: 5.0825e-06 - accuracy: 1.0000 - val_loss: 0.0125 - val_accuracy: 1.0000\n",
            "Epoch 69/150\n",
            "41/41 [==============================] - 0s 3ms/step - loss: 4.9496e-06 - accuracy: 1.0000 - val_loss: 0.0125 - val_accuracy: 1.0000\n",
            "Epoch 70/150\n",
            "41/41 [==============================] - 0s 3ms/step - loss: 4.8115e-06 - accuracy: 1.0000 - val_loss: 0.0127 - val_accuracy: 1.0000\n",
            "Epoch 71/150\n",
            "41/41 [==============================] - 0s 4ms/step - loss: 4.5314e-06 - accuracy: 1.0000 - val_loss: 0.0120 - val_accuracy: 1.0000\n",
            "Epoch 72/150\n",
            "41/41 [==============================] - 0s 3ms/step - loss: 4.3185e-06 - accuracy: 1.0000 - val_loss: 0.0125 - val_accuracy: 1.0000\n",
            "Epoch 73/150\n",
            "41/41 [==============================] - 0s 3ms/step - loss: 4.1966e-06 - accuracy: 1.0000 - val_loss: 0.0126 - val_accuracy: 1.0000\n",
            "Epoch 74/150\n",
            "41/41 [==============================] - 0s 3ms/step - loss: 4.1112e-06 - accuracy: 1.0000 - val_loss: 0.0125 - val_accuracy: 1.0000\n",
            "Epoch 75/150\n",
            "41/41 [==============================] - 0s 3ms/step - loss: 3.9028e-06 - accuracy: 1.0000 - val_loss: 0.0125 - val_accuracy: 1.0000\n",
            "Epoch 76/150\n",
            "41/41 [==============================] - 0s 3ms/step - loss: 3.7846e-06 - accuracy: 1.0000 - val_loss: 0.0125 - val_accuracy: 1.0000\n",
            "Epoch 77/150\n",
            "41/41 [==============================] - 0s 3ms/step - loss: 3.6686e-06 - accuracy: 1.0000 - val_loss: 0.0125 - val_accuracy: 1.0000\n",
            "Epoch 78/150\n",
            "41/41 [==============================] - 0s 4ms/step - loss: 3.5104e-06 - accuracy: 1.0000 - val_loss: 0.0122 - val_accuracy: 1.0000\n",
            "Epoch 79/150\n",
            "41/41 [==============================] - 0s 3ms/step - loss: 3.4143e-06 - accuracy: 1.0000 - val_loss: 0.0124 - val_accuracy: 1.0000\n",
            "Epoch 80/150\n",
            "41/41 [==============================] - 0s 3ms/step - loss: 3.3071e-06 - accuracy: 1.0000 - val_loss: 0.0125 - val_accuracy: 1.0000\n",
            "Epoch 81/150\n",
            "41/41 [==============================] - 0s 3ms/step - loss: 3.1527e-06 - accuracy: 1.0000 - val_loss: 0.0123 - val_accuracy: 1.0000\n",
            "Epoch 82/150\n",
            "41/41 [==============================] - 0s 3ms/step - loss: 3.1216e-06 - accuracy: 1.0000 - val_loss: 0.0123 - val_accuracy: 1.0000\n",
            "Epoch 83/150\n",
            "41/41 [==============================] - 0s 3ms/step - loss: 2.9808e-06 - accuracy: 1.0000 - val_loss: 0.0120 - val_accuracy: 1.0000\n",
            "Epoch 84/150\n",
            "41/41 [==============================] - 0s 3ms/step - loss: 2.9331e-06 - accuracy: 1.0000 - val_loss: 0.0122 - val_accuracy: 1.0000\n",
            "Epoch 85/150\n",
            "41/41 [==============================] - 0s 4ms/step - loss: 2.7884e-06 - accuracy: 1.0000 - val_loss: 0.0123 - val_accuracy: 1.0000\n",
            "Epoch 86/150\n",
            "41/41 [==============================] - 0s 4ms/step - loss: 2.7387e-06 - accuracy: 1.0000 - val_loss: 0.0122 - val_accuracy: 1.0000\n",
            "Epoch 87/150\n",
            "41/41 [==============================] - 0s 3ms/step - loss: 2.6057e-06 - accuracy: 1.0000 - val_loss: 0.0123 - val_accuracy: 1.0000\n",
            "Epoch 88/150\n",
            "41/41 [==============================] - 0s 3ms/step - loss: 2.5252e-06 - accuracy: 1.0000 - val_loss: 0.0122 - val_accuracy: 1.0000\n",
            "Epoch 89/150\n",
            "41/41 [==============================] - 0s 3ms/step - loss: 2.4385e-06 - accuracy: 1.0000 - val_loss: 0.0122 - val_accuracy: 1.0000\n",
            "Epoch 90/150\n",
            "41/41 [==============================] - 0s 3ms/step - loss: 2.3881e-06 - accuracy: 1.0000 - val_loss: 0.0125 - val_accuracy: 1.0000\n",
            "Epoch 91/150\n",
            "41/41 [==============================] - 0s 3ms/step - loss: 2.3201e-06 - accuracy: 1.0000 - val_loss: 0.0121 - val_accuracy: 1.0000\n",
            "Epoch 92/150\n",
            "41/41 [==============================] - 0s 4ms/step - loss: 2.3579e-06 - accuracy: 1.0000 - val_loss: 0.0123 - val_accuracy: 1.0000\n",
            "Epoch 93/150\n",
            "41/41 [==============================] - 0s 3ms/step - loss: 2.1889e-06 - accuracy: 1.0000 - val_loss: 0.0121 - val_accuracy: 1.0000\n",
            "Epoch 94/150\n",
            "41/41 [==============================] - 0s 3ms/step - loss: 2.0865e-06 - accuracy: 1.0000 - val_loss: 0.0121 - val_accuracy: 1.0000\n",
            "Epoch 95/150\n",
            "41/41 [==============================] - 0s 3ms/step - loss: 2.0219e-06 - accuracy: 1.0000 - val_loss: 0.0121 - val_accuracy: 1.0000\n",
            "Epoch 96/150\n",
            "41/41 [==============================] - 0s 3ms/step - loss: 1.9730e-06 - accuracy: 1.0000 - val_loss: 0.0122 - val_accuracy: 1.0000\n",
            "Epoch 97/150\n",
            "41/41 [==============================] - 0s 3ms/step - loss: 1.9441e-06 - accuracy: 1.0000 - val_loss: 0.0121 - val_accuracy: 1.0000\n",
            "Epoch 98/150\n",
            "41/41 [==============================] - 0s 3ms/step - loss: 1.8830e-06 - accuracy: 1.0000 - val_loss: 0.0123 - val_accuracy: 1.0000\n",
            "Epoch 99/150\n",
            "41/41 [==============================] - 0s 3ms/step - loss: 1.7798e-06 - accuracy: 1.0000 - val_loss: 0.0121 - val_accuracy: 1.0000\n",
            "Epoch 100/150\n",
            "41/41 [==============================] - 0s 4ms/step - loss: 1.7732e-06 - accuracy: 1.0000 - val_loss: 0.0122 - val_accuracy: 1.0000\n",
            "Epoch 101/150\n",
            "41/41 [==============================] - 0s 3ms/step - loss: 1.6963e-06 - accuracy: 1.0000 - val_loss: 0.0122 - val_accuracy: 1.0000\n",
            "Epoch 102/150\n",
            "41/41 [==============================] - 0s 3ms/step - loss: 1.6622e-06 - accuracy: 1.0000 - val_loss: 0.0121 - val_accuracy: 1.0000\n",
            "Epoch 103/150\n",
            "41/41 [==============================] - 0s 3ms/step - loss: 1.5993e-06 - accuracy: 1.0000 - val_loss: 0.0122 - val_accuracy: 1.0000\n",
            "Epoch 104/150\n",
            "41/41 [==============================] - 0s 3ms/step - loss: 1.5504e-06 - accuracy: 1.0000 - val_loss: 0.0121 - val_accuracy: 1.0000\n",
            "Epoch 105/150\n",
            "41/41 [==============================] - 0s 3ms/step - loss: 1.5106e-06 - accuracy: 1.0000 - val_loss: 0.0122 - val_accuracy: 1.0000\n",
            "Epoch 106/150\n",
            "41/41 [==============================] - 0s 3ms/step - loss: 1.4527e-06 - accuracy: 1.0000 - val_loss: 0.0121 - val_accuracy: 1.0000\n",
            "Epoch 107/150\n",
            "41/41 [==============================] - 0s 4ms/step - loss: 1.4313e-06 - accuracy: 1.0000 - val_loss: 0.0123 - val_accuracy: 1.0000\n",
            "Epoch 108/150\n",
            "41/41 [==============================] - 0s 3ms/step - loss: 1.4056e-06 - accuracy: 1.0000 - val_loss: 0.0119 - val_accuracy: 1.0000\n",
            "Epoch 109/150\n",
            "41/41 [==============================] - 0s 4ms/step - loss: 1.3437e-06 - accuracy: 1.0000 - val_loss: 0.0121 - val_accuracy: 1.0000\n",
            "Epoch 110/150\n",
            "41/41 [==============================] - 0s 3ms/step - loss: 1.2919e-06 - accuracy: 1.0000 - val_loss: 0.0120 - val_accuracy: 1.0000\n",
            "Epoch 111/150\n",
            "41/41 [==============================] - 0s 3ms/step - loss: 1.2574e-06 - accuracy: 1.0000 - val_loss: 0.0121 - val_accuracy: 1.0000\n",
            "Epoch 112/150\n",
            "41/41 [==============================] - 0s 3ms/step - loss: 1.2296e-06 - accuracy: 1.0000 - val_loss: 0.0121 - val_accuracy: 1.0000\n",
            "Epoch 113/150\n",
            "41/41 [==============================] - 0s 3ms/step - loss: 1.1989e-06 - accuracy: 1.0000 - val_loss: 0.0123 - val_accuracy: 1.0000\n",
            "Epoch 114/150\n",
            "41/41 [==============================] - 0s 4ms/step - loss: 1.1579e-06 - accuracy: 1.0000 - val_loss: 0.0122 - val_accuracy: 1.0000\n",
            "Epoch 115/150\n",
            "41/41 [==============================] - 0s 3ms/step - loss: 1.1344e-06 - accuracy: 1.0000 - val_loss: 0.0120 - val_accuracy: 1.0000\n",
            "Epoch 116/150\n",
            "41/41 [==============================] - 0s 3ms/step - loss: 1.0937e-06 - accuracy: 1.0000 - val_loss: 0.0121 - val_accuracy: 1.0000\n",
            "Epoch 117/150\n",
            "41/41 [==============================] - 0s 3ms/step - loss: 1.0648e-06 - accuracy: 1.0000 - val_loss: 0.0121 - val_accuracy: 1.0000\n",
            "Epoch 118/150\n",
            "41/41 [==============================] - 0s 3ms/step - loss: 1.0320e-06 - accuracy: 1.0000 - val_loss: 0.0120 - val_accuracy: 1.0000\n",
            "Epoch 119/150\n",
            "41/41 [==============================] - 0s 3ms/step - loss: 1.0164e-06 - accuracy: 1.0000 - val_loss: 0.0120 - val_accuracy: 1.0000\n",
            "Epoch 120/150\n",
            "41/41 [==============================] - 0s 3ms/step - loss: 9.8446e-07 - accuracy: 1.0000 - val_loss: 0.0121 - val_accuracy: 1.0000\n",
            "Epoch 121/150\n",
            "41/41 [==============================] - 0s 3ms/step - loss: 9.5397e-07 - accuracy: 1.0000 - val_loss: 0.0120 - val_accuracy: 1.0000\n",
            "Epoch 122/150\n",
            "41/41 [==============================] - 0s 3ms/step - loss: 9.2603e-07 - accuracy: 1.0000 - val_loss: 0.0122 - val_accuracy: 1.0000\n",
            "Epoch 123/150\n",
            "41/41 [==============================] - 0s 3ms/step - loss: 9.0857e-07 - accuracy: 1.0000 - val_loss: 0.0122 - val_accuracy: 1.0000\n",
            "Epoch 124/150\n",
            "41/41 [==============================] - 0s 3ms/step - loss: 8.9161e-07 - accuracy: 1.0000 - val_loss: 0.0122 - val_accuracy: 1.0000\n",
            "Epoch 125/150\n",
            "41/41 [==============================] - 0s 3ms/step - loss: 8.5686e-07 - accuracy: 1.0000 - val_loss: 0.0121 - val_accuracy: 1.0000\n",
            "Epoch 126/150\n",
            "41/41 [==============================] - 0s 3ms/step - loss: 8.3324e-07 - accuracy: 1.0000 - val_loss: 0.0121 - val_accuracy: 1.0000\n",
            "Epoch 127/150\n",
            "41/41 [==============================] - 0s 3ms/step - loss: 8.0477e-07 - accuracy: 1.0000 - val_loss: 0.0121 - val_accuracy: 1.0000\n",
            "Epoch 128/150\n",
            "41/41 [==============================] - 0s 3ms/step - loss: 7.8637e-07 - accuracy: 1.0000 - val_loss: 0.0122 - val_accuracy: 1.0000\n",
            "Epoch 129/150\n",
            "41/41 [==============================] - 0s 4ms/step - loss: 7.6289e-07 - accuracy: 1.0000 - val_loss: 0.0120 - val_accuracy: 1.0000\n",
            "Epoch 130/150\n",
            "41/41 [==============================] - 0s 3ms/step - loss: 7.4081e-07 - accuracy: 1.0000 - val_loss: 0.0121 - val_accuracy: 1.0000\n",
            "Epoch 131/150\n",
            "41/41 [==============================] - 0s 3ms/step - loss: 7.3655e-07 - accuracy: 1.0000 - val_loss: 0.0122 - val_accuracy: 1.0000\n",
            "Epoch 132/150\n",
            "41/41 [==============================] - 0s 3ms/step - loss: 7.0346e-07 - accuracy: 1.0000 - val_loss: 0.0121 - val_accuracy: 1.0000\n",
            "Epoch 133/150\n",
            "41/41 [==============================] - 0s 3ms/step - loss: 6.9177e-07 - accuracy: 1.0000 - val_loss: 0.0120 - val_accuracy: 1.0000\n",
            "Epoch 134/150\n",
            "41/41 [==============================] - 0s 3ms/step - loss: 6.6599e-07 - accuracy: 1.0000 - val_loss: 0.0121 - val_accuracy: 1.0000\n",
            "Epoch 135/150\n",
            "41/41 [==============================] - 0s 3ms/step - loss: 6.5346e-07 - accuracy: 1.0000 - val_loss: 0.0121 - val_accuracy: 1.0000\n",
            "Epoch 136/150\n",
            "41/41 [==============================] - 0s 4ms/step - loss: 6.3777e-07 - accuracy: 1.0000 - val_loss: 0.0122 - val_accuracy: 1.0000\n",
            "Epoch 137/150\n",
            "41/41 [==============================] - 0s 4ms/step - loss: 6.1822e-07 - accuracy: 1.0000 - val_loss: 0.0122 - val_accuracy: 1.0000\n",
            "Epoch 138/150\n",
            "41/41 [==============================] - 0s 5ms/step - loss: 5.9957e-07 - accuracy: 1.0000 - val_loss: 0.0122 - val_accuracy: 1.0000\n",
            "Epoch 139/150\n",
            "41/41 [==============================] - 0s 5ms/step - loss: 5.9484e-07 - accuracy: 1.0000 - val_loss: 0.0121 - val_accuracy: 1.0000\n",
            "Epoch 140/150\n",
            "41/41 [==============================] - 0s 5ms/step - loss: 5.7717e-07 - accuracy: 1.0000 - val_loss: 0.0122 - val_accuracy: 1.0000\n",
            "Epoch 141/150\n",
            "41/41 [==============================] - 0s 5ms/step - loss: 5.5815e-07 - accuracy: 1.0000 - val_loss: 0.0124 - val_accuracy: 1.0000\n",
            "Epoch 142/150\n",
            "41/41 [==============================] - 0s 4ms/step - loss: 5.3748e-07 - accuracy: 1.0000 - val_loss: 0.0122 - val_accuracy: 1.0000\n",
            "Epoch 143/150\n",
            "41/41 [==============================] - 0s 4ms/step - loss: 5.2832e-07 - accuracy: 1.0000 - val_loss: 0.0123 - val_accuracy: 1.0000\n",
            "Epoch 144/150\n",
            "41/41 [==============================] - 0s 5ms/step - loss: 5.1298e-07 - accuracy: 1.0000 - val_loss: 0.0122 - val_accuracy: 1.0000\n",
            "Epoch 145/150\n",
            "41/41 [==============================] - 0s 5ms/step - loss: 5.0346e-07 - accuracy: 1.0000 - val_loss: 0.0122 - val_accuracy: 1.0000\n",
            "Epoch 146/150\n",
            "41/41 [==============================] - 0s 6ms/step - loss: 4.9570e-07 - accuracy: 1.0000 - val_loss: 0.0122 - val_accuracy: 1.0000\n",
            "Epoch 147/150\n",
            "41/41 [==============================] - 0s 5ms/step - loss: 4.7471e-07 - accuracy: 1.0000 - val_loss: 0.0123 - val_accuracy: 1.0000\n",
            "Epoch 148/150\n",
            "41/41 [==============================] - 0s 4ms/step - loss: 4.6485e-07 - accuracy: 1.0000 - val_loss: 0.0121 - val_accuracy: 1.0000\n",
            "Epoch 149/150\n",
            "41/41 [==============================] - 0s 5ms/step - loss: 4.5214e-07 - accuracy: 1.0000 - val_loss: 0.0122 - val_accuracy: 1.0000\n",
            "Epoch 150/150\n",
            "41/41 [==============================] - 0s 4ms/step - loss: 4.3874e-07 - accuracy: 1.0000 - val_loss: 0.0124 - val_accuracy: 1.0000\n"
          ]
        },
        {
          "output_type": "execute_result",
          "data": {
            "text/plain": [
              "<keras.src.callbacks.History at 0x7f29fae96140>"
            ]
          },
          "metadata": {},
          "execution_count": 13
        }
      ]
    },
    {
      "cell_type": "code",
      "source": [
        "def predict_breast_cancer(features):\n",
        "  features = scaler.transform([features])\n",
        "  prediction = model.predict(features)\n",
        "  return 'Maligno' if prediction[0] > 0.5 else 'Benigno'\n",
        "\n",
        "y_pred = model.predict(X_test)\n",
        "y_pred = [1 if pred > 0.5 else 0 for pred in y_pred]\n",
        "\n",
        "accuracy = accuracy_score(y_test, y_pred)\n",
        "print(f'Model Accuracy: {accuracy * 100:.2f}%')"
      ],
      "metadata": {
        "colab": {
          "base_uri": "https://localhost:8080/"
        },
        "id": "OwYyNHOjWC7Q",
        "outputId": "3b78d8e4-4574-4b69-b142-6a4c747becb6"
      },
      "execution_count": null,
      "outputs": [
        {
          "output_type": "stream",
          "name": "stdout",
          "text": [
            "4/4 [==============================] - 0s 5ms/step\n",
            "Model Accuracy: 98.25%\n"
          ]
        }
      ]
    },
    {
      "cell_type": "code",
      "source": [
        "example_features = X_test[0]\n",
        "print(f'Previsao: {predict_breast_cancer(example_features)}, Atual: {\"Maligno\" if y_test[0] == 1 else \"Benigno\"}')\n",
        "\n",
        "conf_matrix = confusion_matrix(y_test, y_pred)\n",
        "plt.figure(figsize=(8, 6))\n",
        "sns.heatmap(conf_matrix, annot=True, fmt='d', cmap='Blues', xticklabels=['Benign', 'Malignant'], yticklabels=['Benigno', 'Maligno'])\n",
        "plt.xlabel('Predicted Label')\n",
        "plt.ylabel('True Label')\n",
        "plt.title('Matriz de confusão')\n",
        "plt.show()"
      ],
      "metadata": {
        "colab": {
          "base_uri": "https://localhost:8080/",
          "height": 633
        },
        "id": "9ucuMYIegZQn",
        "outputId": "dbb3bdc0-db97-44a5-82b3-c6ba12da5782"
      },
      "execution_count": null,
      "outputs": [
        {
          "output_type": "stream",
          "name": "stdout",
          "text": [
            "1/1 [==============================] - 0s 31ms/step\n"
          ]
        },
        {
          "output_type": "stream",
          "name": "stderr",
          "text": [
            "/usr/local/lib/python3.10/dist-packages/sklearn/base.py:439: UserWarning: X does not have valid feature names, but StandardScaler was fitted with feature names\n",
            "  warnings.warn(\n"
          ]
        },
        {
          "output_type": "stream",
          "name": "stdout",
          "text": [
            "Previsao: Maligno, Atual: Benigno\n"
          ]
        },
        {
          "output_type": "display_data",
          "data": {
            "text/plain": [
              "<Figure size 800x600 with 2 Axes>"
            ],
            "image/png": "[encoded data removed]"
          },
          "metadata": {}
        }
      ]
    },
    {
      "cell_type": "code",
      "source": [],
      "metadata": {
        "id": "3GEsNMeOh3st"
      },
      "execution_count": null,
      "outputs": []
    }
  ]
}